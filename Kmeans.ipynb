{
 "cells": [
  {
   "cell_type": "markdown",
   "metadata": {},
   "source": [
    "# K-means Clustering"
   ]
  },
  {
   "cell_type": "code",
   "execution_count": 1,
   "metadata": {},
   "outputs": [],
   "source": [
    "# Import Findsparkd\n",
    "import findspark\n",
    "findspark.init()\n",
    "# Import necessary libraries\n",
    "from pyspark.sql import SparkSession\n",
    "from pyspark.conf import SparkConf\n",
    "from pyspark.sql.types import *\n",
    "import pyspark.sql.functions as F\n",
    "from pyspark.sql.functions import countDistinct\n",
    "from pyspark.sql.functions import col, asc,desc\n",
    "from pyspark.sql import SparkSession\n",
    "from pyspark.sql.functions import avg\n",
    "import matplotlib.pyplot as plt\n",
    "import numpy as np\n",
    "import seaborn as sns\n",
    "from pyspark.sql import SQLContext\n",
    "from pyspark.mllib.stat import Statistics\n",
    "import pandas as pd\n",
    "from pyspark.sql.functions import udf\n",
    "from pyspark.ml.feature import OneHotEncoder, StringIndexer, VectorAssembler,StandardScaler\n",
    "from pyspark.ml import Pipeline\n",
    "from sklearn.metrics import confusion_matrix\n",
    "\n",
    "from pyspark.ml.clustering import KMeans\n",
    "from pyspark.ml.evaluation import ClusteringEvaluator\n"
   ]
  },
  {
   "cell_type": "code",
   "execution_count": 2,
   "metadata": {},
   "outputs": [
    {
     "name": "stderr",
     "output_type": "stream",
     "text": [
      "Setting default log level to \"WARN\".\n",
      "To adjust logging level use sc.setLogLevel(newLevel). For SparkR, use setLogLevel(newLevel).\n"
     ]
    },
    {
     "name": "stdout",
     "output_type": "stream",
     "text": [
      "23/11/27 16:10:11 WARN NativeCodeLoader: Unable to load native-hadoop library for your platform... using builtin-java classes where applicable\n",
      "23/11/27 16:10:12 WARN Utils: Service 'SparkUI' could not bind on port 4040. Attempting port 4041.\n"
     ]
    },
    {
     "name": "stderr",
     "output_type": "stream",
     "text": [
      "/Users/nathanzlomke/Documents/spark-3.3.3-bin-hadoop3/python/pyspark/sql/context.py:112: FutureWarning: Deprecated in 3.0.0. Use SparkSession.builder.getOrCreate() instead.\n",
      "  warnings.warn(\n"
     ]
    }
   ],
   "source": [
    "spark=SparkSession.builder \\\n",
    ".master (\"local[*]\")\\\n",
    ".appName(\"week3\")\\\n",
    ".getOrCreate()\n",
    "sc=spark.sparkContext\n",
    "sqlContext=SQLContext(sc)"
   ]
  },
  {
   "cell_type": "code",
   "execution_count": 3,
   "metadata": {},
   "outputs": [],
   "source": [
    "sc=spark.sparkContext\n",
    "sqlContext=SQLContext(sc)"
   ]
  },
  {
   "cell_type": "code",
   "execution_count": 4,
   "metadata": {},
   "outputs": [
    {
     "name": "stderr",
     "output_type": "stream",
     "text": [
      "                                                                                \r"
     ]
    },
    {
     "data": {
      "text/html": [
       "<div>\n",
       "<style scoped>\n",
       "    .dataframe tbody tr th:only-of-type {\n",
       "        vertical-align: middle;\n",
       "    }\n",
       "\n",
       "    .dataframe tbody tr th {\n",
       "        vertical-align: top;\n",
       "    }\n",
       "\n",
       "    .dataframe thead th {\n",
       "        text-align: right;\n",
       "    }\n",
       "</style>\n",
       "<table border=\"1\" class=\"dataframe\">\n",
       "  <thead>\n",
       "    <tr style=\"text-align: right;\">\n",
       "      <th></th>\n",
       "      <th>Duration</th>\n",
       "      <th>nr_employed</th>\n",
       "      <th>euribor3m</th>\n",
       "      <th>cons_conf_idx</th>\n",
       "      <th>age</th>\n",
       "      <th>cons_price_idx</th>\n",
       "      <th>education_OHE</th>\n",
       "      <th>housing_OHE</th>\n",
       "      <th>emp_var_rate</th>\n",
       "      <th>campaign</th>\n",
       "      <th>y</th>\n",
       "    </tr>\n",
       "  </thead>\n",
       "  <tbody>\n",
       "    <tr>\n",
       "      <th>0</th>\n",
       "      <td>261</td>\n",
       "      <td>5191.0</td>\n",
       "      <td>4.857</td>\n",
       "      <td>-36.4</td>\n",
       "      <td>56</td>\n",
       "      <td>93.994</td>\n",
       "      <td>(0.0, 0.0, 0.0, 0.0, 1.0, 0.0, 0.0, 0.0)</td>\n",
       "      <td>(0.0, 1.0, 0.0)</td>\n",
       "      <td>1.1</td>\n",
       "      <td>1</td>\n",
       "      <td>no</td>\n",
       "    </tr>\n",
       "    <tr>\n",
       "      <th>1</th>\n",
       "      <td>149</td>\n",
       "      <td>5191.0</td>\n",
       "      <td>4.857</td>\n",
       "      <td>-36.4</td>\n",
       "      <td>57</td>\n",
       "      <td>93.994</td>\n",
       "      <td>(0.0, 1.0, 0.0, 0.0, 0.0, 0.0, 0.0, 0.0)</td>\n",
       "      <td>(0.0, 1.0, 0.0)</td>\n",
       "      <td>1.1</td>\n",
       "      <td>1</td>\n",
       "      <td>no</td>\n",
       "    </tr>\n",
       "    <tr>\n",
       "      <th>2</th>\n",
       "      <td>226</td>\n",
       "      <td>5191.0</td>\n",
       "      <td>4.857</td>\n",
       "      <td>-36.4</td>\n",
       "      <td>37</td>\n",
       "      <td>93.994</td>\n",
       "      <td>(0.0, 1.0, 0.0, 0.0, 0.0, 0.0, 0.0, 0.0)</td>\n",
       "      <td>(1.0, 0.0, 0.0)</td>\n",
       "      <td>1.1</td>\n",
       "      <td>1</td>\n",
       "      <td>no</td>\n",
       "    </tr>\n",
       "    <tr>\n",
       "      <th>3</th>\n",
       "      <td>151</td>\n",
       "      <td>5191.0</td>\n",
       "      <td>4.857</td>\n",
       "      <td>-36.4</td>\n",
       "      <td>40</td>\n",
       "      <td>93.994</td>\n",
       "      <td>(0.0, 0.0, 0.0, 0.0, 0.0, 1.0, 0.0, 0.0)</td>\n",
       "      <td>(0.0, 1.0, 0.0)</td>\n",
       "      <td>1.1</td>\n",
       "      <td>1</td>\n",
       "      <td>no</td>\n",
       "    </tr>\n",
       "    <tr>\n",
       "      <th>4</th>\n",
       "      <td>307</td>\n",
       "      <td>5191.0</td>\n",
       "      <td>4.857</td>\n",
       "      <td>-36.4</td>\n",
       "      <td>56</td>\n",
       "      <td>93.994</td>\n",
       "      <td>(0.0, 1.0, 0.0, 0.0, 0.0, 0.0, 0.0, 0.0)</td>\n",
       "      <td>(0.0, 1.0, 0.0)</td>\n",
       "      <td>1.1</td>\n",
       "      <td>1</td>\n",
       "      <td>no</td>\n",
       "    </tr>\n",
       "  </tbody>\n",
       "</table>\n",
       "</div>"
      ],
      "text/plain": [
       "   Duration  nr_employed  euribor3m  cons_conf_idx  age  cons_price_idx  \\\n",
       "0       261       5191.0      4.857          -36.4   56          93.994   \n",
       "1       149       5191.0      4.857          -36.4   57          93.994   \n",
       "2       226       5191.0      4.857          -36.4   37          93.994   \n",
       "3       151       5191.0      4.857          -36.4   40          93.994   \n",
       "4       307       5191.0      4.857          -36.4   56          93.994   \n",
       "\n",
       "                              education_OHE      housing_OHE  emp_var_rate  \\\n",
       "0  (0.0, 0.0, 0.0, 0.0, 1.0, 0.0, 0.0, 0.0)  (0.0, 1.0, 0.0)           1.1   \n",
       "1  (0.0, 1.0, 0.0, 0.0, 0.0, 0.0, 0.0, 0.0)  (0.0, 1.0, 0.0)           1.1   \n",
       "2  (0.0, 1.0, 0.0, 0.0, 0.0, 0.0, 0.0, 0.0)  (1.0, 0.0, 0.0)           1.1   \n",
       "3  (0.0, 0.0, 0.0, 0.0, 0.0, 1.0, 0.0, 0.0)  (0.0, 1.0, 0.0)           1.1   \n",
       "4  (0.0, 1.0, 0.0, 0.0, 0.0, 0.0, 0.0, 0.0)  (0.0, 1.0, 0.0)           1.1   \n",
       "\n",
       "   campaign   y  \n",
       "0         1  no  \n",
       "1         1  no  \n",
       "2         1  no  \n",
       "3         1  no  \n",
       "4         1  no  "
      ]
     },
     "execution_count": 4,
     "metadata": {},
     "output_type": "execute_result"
    }
   ],
   "source": [
    "top10_data = spark.read.parquet('/Users/nathanzlomke/Downloads/output_wTarget')\n",
    "top10df = top10_data.toPandas()\n",
    "top10df.head()\n"
   ]
  },
  {
   "cell_type": "code",
   "execution_count": 5,
   "metadata": {},
   "outputs": [
    {
     "data": {
      "text/plain": [
       "['Duration',\n",
       " 'nr_employed',\n",
       " 'euribor3m',\n",
       " 'cons_conf_idx',\n",
       " 'age',\n",
       " 'cons_price_idx',\n",
       " 'education_OHE',\n",
       " 'housing_OHE',\n",
       " 'emp_var_rate',\n",
       " 'campaign']"
      ]
     },
     "execution_count": 5,
     "metadata": {},
     "output_type": "execute_result"
    }
   ],
   "source": [
    "feature_cols = top10_data.columns[:-1]\n",
    "feature_cols"
   ]
  },
  {
   "cell_type": "code",
   "execution_count": 6,
   "metadata": {},
   "outputs": [],
   "source": [
    "assembler = VectorAssembler(inputCols=feature_cols, outputCol='features')\n",
    "top10_assembled = assembler.transform(top10_data)"
   ]
  },
  {
   "cell_type": "code",
   "execution_count": 7,
   "metadata": {},
   "outputs": [
    {
     "name": "stderr",
     "output_type": "stream",
     "text": [
      "                                                                                \r"
     ]
    },
    {
     "name": "stdout",
     "output_type": "stream",
     "text": [
      "Silhouette with squared euclidean distance for k=5: 0.6150213850484735\n",
      "+----------+\n",
      "|prediction|\n",
      "+----------+\n",
      "|         1|\n",
      "|         0|\n",
      "|         1|\n",
      "|         0|\n",
      "|         1|\n",
      "|         0|\n",
      "|         0|\n",
      "|         1|\n",
      "|         1|\n",
      "|         0|\n",
      "|         0|\n",
      "|         1|\n",
      "|         0|\n",
      "|         1|\n",
      "|         0|\n",
      "|         0|\n",
      "|         1|\n",
      "|         1|\n",
      "|         1|\n",
      "|         0|\n",
      "+----------+\n",
      "only showing top 20 rows\n",
      "\n"
     ]
    },
    {
     "data": {
      "image/png": "[encoded data removed]",
      "text/plain": [
       "<Figure size 800x600 with 1 Axes>"
      ]
     },
     "metadata": {},
     "output_type": "display_data"
    }
   ],
   "source": [
    "from pyspark.ml.clustering import KMeans\n",
    "from pyspark.ml.evaluation import ClusteringEvaluator\n",
    "\n",
    "evaluator_Kmeans = ClusteringEvaluator()\n",
    "\n",
    "silhouette_scores = []\n",
    "k_range = range(2, 10)  # Example range, can be adjusted\n",
    "\n",
    "for k_find in k_range:\n",
    "    kmeans = KMeans(k=k_find, predictionCol='prediction').setSeed(12345)\n",
    "    model = kmeans.fit(top10_assembled)\n",
    "    predictions_Kmeans = model.transform(top10_assembled)\n",
    "    silhouette = evaluator_Kmeans.evaluate(predictions_Kmeans)\n",
    "    silhouette_scores.append(silhouette)\n",
    "\n",
    "    if k_find == 5:  # If k is 5, print the silhouette score and display the result\n",
    "        print(\"Silhouette with squared euclidean distance for k=5: \" + str(silhouette))\n",
    "        predictions_Kmeans.select('prediction').show()\n",
    "\n",
    "plt.figure(figsize=(8, 6))\n",
    "plt.plot(k_range, silhouette_scores, marker='o')\n",
    "plt.xlabel('Number of clusters k')\n",
    "plt.ylabel('Silhouette Score')\n",
    "plt.title('Elbow Plot for Optimal k')\n",
    "plt.show()\n"
   ]
  },
  {
   "cell_type": "code",
   "execution_count": 8,
   "metadata": {},
   "outputs": [
    {
     "name": "stdout",
     "output_type": "stream",
     "text": [
      "Silhouette with squared euclidean distance = 0.608056769137716\n",
      "+----------+\n",
      "|prediction|\n",
      "+----------+\n",
      "|         4|\n",
      "|         0|\n",
      "|         4|\n",
      "|         0|\n",
      "|         4|\n",
      "|         0|\n",
      "|         0|\n",
      "|         4|\n",
      "|         4|\n",
      "|         0|\n",
      "|         0|\n",
      "|         4|\n",
      "|         0|\n",
      "|         4|\n",
      "|         0|\n",
      "|         0|\n",
      "|         4|\n",
      "|         4|\n",
      "|         4|\n",
      "|         0|\n",
      "+----------+\n",
      "only showing top 20 rows\n",
      "\n"
     ]
    }
   ],
   "source": [
    "# Assume you want to create 5 clusters\n",
    "kmeans = KMeans(featuresCol='features', k=5)\n",
    "model = kmeans.fit(top10_assembled)\n",
    "predictions_Kmeans = model.transform(top10_assembled\n",
    "                                     )\n",
    "silhouette = evaluator_Kmeans.evaluate(predictions_Kmeans)\n",
    "print(\"Silhouette with squared euclidean distance = \" + str(silhouette))\n",
    "\n",
    "# Display the result\n",
    "predictions_Kmeans.select('prediction').show()"
   ]
  },
  {
   "cell_type": "markdown",
   "metadata": {},
   "source": [
    "### Add in target variable for post clustering analysis"
   ]
  },
  {
   "cell_type": "code",
   "execution_count": 9,
   "metadata": {},
   "outputs": [
    {
     "data": {
      "text/html": [
       "<div>\n",
       "<style scoped>\n",
       "    .dataframe tbody tr th:only-of-type {\n",
       "        vertical-align: middle;\n",
       "    }\n",
       "\n",
       "    .dataframe tbody tr th {\n",
       "        vertical-align: top;\n",
       "    }\n",
       "\n",
       "    .dataframe thead th {\n",
       "        text-align: right;\n",
       "    }\n",
       "</style>\n",
       "<table border=\"1\" class=\"dataframe\">\n",
       "  <thead>\n",
       "    <tr style=\"text-align: right;\">\n",
       "      <th></th>\n",
       "      <th>Duration</th>\n",
       "      <th>nr_employed</th>\n",
       "      <th>euribor3m</th>\n",
       "      <th>cons_conf_idx</th>\n",
       "      <th>age</th>\n",
       "      <th>cons_price_idx</th>\n",
       "      <th>education_OHE</th>\n",
       "      <th>housing_OHE</th>\n",
       "      <th>emp_var_rate</th>\n",
       "      <th>campaign</th>\n",
       "      <th>target_yes</th>\n",
       "      <th>features</th>\n",
       "      <th>prediction</th>\n",
       "    </tr>\n",
       "  </thead>\n",
       "  <tbody>\n",
       "    <tr>\n",
       "      <th>0</th>\n",
       "      <td>261</td>\n",
       "      <td>5191.0</td>\n",
       "      <td>4.857</td>\n",
       "      <td>-36.4</td>\n",
       "      <td>56</td>\n",
       "      <td>93.994</td>\n",
       "      <td>(0.0, 0.0, 0.0, 0.0, 1.0, 0.0, 0.0, 0.0)</td>\n",
       "      <td>(0.0, 1.0, 0.0)</td>\n",
       "      <td>1.1</td>\n",
       "      <td>1</td>\n",
       "      <td>0</td>\n",
       "      <td>(261.0, 5191.0, 4.857, -36.4, 56.0, 93.994, 0....</td>\n",
       "      <td>4</td>\n",
       "    </tr>\n",
       "    <tr>\n",
       "      <th>1</th>\n",
       "      <td>149</td>\n",
       "      <td>5191.0</td>\n",
       "      <td>4.857</td>\n",
       "      <td>-36.4</td>\n",
       "      <td>57</td>\n",
       "      <td>93.994</td>\n",
       "      <td>(0.0, 1.0, 0.0, 0.0, 0.0, 0.0, 0.0, 0.0)</td>\n",
       "      <td>(0.0, 1.0, 0.0)</td>\n",
       "      <td>1.1</td>\n",
       "      <td>1</td>\n",
       "      <td>0</td>\n",
       "      <td>(149.0, 5191.0, 4.857, -36.4, 57.0, 93.994, 0....</td>\n",
       "      <td>0</td>\n",
       "    </tr>\n",
       "  </tbody>\n",
       "</table>\n",
       "</div>"
      ],
      "text/plain": [
       "   Duration  nr_employed  euribor3m  cons_conf_idx  age  cons_price_idx  \\\n",
       "0       261       5191.0      4.857          -36.4   56          93.994   \n",
       "1       149       5191.0      4.857          -36.4   57          93.994   \n",
       "\n",
       "                              education_OHE      housing_OHE  emp_var_rate  \\\n",
       "0  (0.0, 0.0, 0.0, 0.0, 1.0, 0.0, 0.0, 0.0)  (0.0, 1.0, 0.0)           1.1   \n",
       "1  (0.0, 1.0, 0.0, 0.0, 0.0, 0.0, 0.0, 0.0)  (0.0, 1.0, 0.0)           1.1   \n",
       "\n",
       "   campaign target_yes                                           features  \\\n",
       "0         1          0  (261.0, 5191.0, 4.857, -36.4, 56.0, 93.994, 0....   \n",
       "1         1          0  (149.0, 5191.0, 4.857, -36.4, 57.0, 93.994, 0....   \n",
       "\n",
       "   prediction  \n",
       "0           4  \n",
       "1           0  "
      ]
     },
     "execution_count": 9,
     "metadata": {},
     "output_type": "execute_result"
    }
   ],
   "source": [
    "predictions_Kmeans = predictions_Kmeans\\\n",
    "    .withColumnRenamed('y', 'target_yes')\n",
    "\n",
    "predictions_Kmeansdf = predictions_Kmeans.replace(['yes', 'no'], ['1', '0'], subset='target_yes')\n",
    "predictions_Kmeansdf.toPandas().head(2)\n"
   ]
  },
  {
   "cell_type": "code",
   "execution_count": 10,
   "metadata": {},
   "outputs": [
    {
     "name": "stdout",
     "output_type": "stream",
     "text": [
      "[('target_yes', 'string')]\n"
     ]
    }
   ],
   "source": [
    "print(predictions_Kmeansdf.select('target_yes').dtypes)\n",
    "predictions_Kmeansdf = predictions_Kmeansdf.withColumn('target_yes', predictions_Kmeansdf['target_yes'].cast(IntegerType()))"
   ]
  },
  {
   "cell_type": "markdown",
   "metadata": {},
   "source": [
    "### Cluster Means (only works for numerical features)"
   ]
  },
  {
   "cell_type": "code",
   "execution_count": 11,
   "metadata": {},
   "outputs": [
    {
     "data": {
      "text/html": [
       "<div>\n",
       "<style scoped>\n",
       "    .dataframe tbody tr th:only-of-type {\n",
       "        vertical-align: middle;\n",
       "    }\n",
       "\n",
       "    .dataframe tbody tr th {\n",
       "        vertical-align: top;\n",
       "    }\n",
       "\n",
       "    .dataframe thead th {\n",
       "        text-align: right;\n",
       "    }\n",
       "</style>\n",
       "<table border=\"1\" class=\"dataframe\">\n",
       "  <thead>\n",
       "    <tr style=\"text-align: right;\">\n",
       "      <th></th>\n",
       "      <th>prediction</th>\n",
       "      <th>avg(prediction)</th>\n",
       "      <th>avg(Duration)</th>\n",
       "      <th>avg(nr_employed)</th>\n",
       "      <th>avg(euribor3m)</th>\n",
       "      <th>avg(cons_conf_idx)</th>\n",
       "      <th>avg(age)</th>\n",
       "      <th>avg(cons_price_idx)</th>\n",
       "      <th>avg(emp_var_rate)</th>\n",
       "      <th>avg(campaign)</th>\n",
       "      <th>avg(target_yes)</th>\n",
       "    </tr>\n",
       "  </thead>\n",
       "  <tbody>\n",
       "    <tr>\n",
       "      <th>0</th>\n",
       "      <td>0</td>\n",
       "      <td>0.0</td>\n",
       "      <td>111.181132</td>\n",
       "      <td>5175.880618</td>\n",
       "      <td>3.798616</td>\n",
       "      <td>-40.438250</td>\n",
       "      <td>39.999309</td>\n",
       "      <td>93.586236</td>\n",
       "      <td>0.225139</td>\n",
       "      <td>2.787364</td>\n",
       "      <td>0.027319</td>\n",
       "    </tr>\n",
       "    <tr>\n",
       "      <th>1</th>\n",
       "      <td>1</td>\n",
       "      <td>1.0</td>\n",
       "      <td>1101.886263</td>\n",
       "      <td>5169.266913</td>\n",
       "      <td>3.659376</td>\n",
       "      <td>-40.804948</td>\n",
       "      <td>39.519202</td>\n",
       "      <td>93.601082</td>\n",
       "      <td>0.133383</td>\n",
       "      <td>2.575332</td>\n",
       "      <td>0.589365</td>\n",
       "    </tr>\n",
       "    <tr>\n",
       "      <th>2</th>\n",
       "      <td>2</td>\n",
       "      <td>2.0</td>\n",
       "      <td>602.117315</td>\n",
       "      <td>5162.161935</td>\n",
       "      <td>3.523506</td>\n",
       "      <td>-40.740823</td>\n",
       "      <td>40.301763</td>\n",
       "      <td>93.580932</td>\n",
       "      <td>0.013246</td>\n",
       "      <td>2.332052</td>\n",
       "      <td>0.321881</td>\n",
       "    </tr>\n",
       "    <tr>\n",
       "      <th>3</th>\n",
       "      <td>3</td>\n",
       "      <td>3.0</td>\n",
       "      <td>2157.875000</td>\n",
       "      <td>5168.919118</td>\n",
       "      <td>3.729728</td>\n",
       "      <td>-40.456618</td>\n",
       "      <td>40.352941</td>\n",
       "      <td>93.604809</td>\n",
       "      <td>0.130882</td>\n",
       "      <td>2.176471</td>\n",
       "      <td>0.610294</td>\n",
       "    </tr>\n",
       "    <tr>\n",
       "      <th>4</th>\n",
       "      <td>4</td>\n",
       "      <td>4.0</td>\n",
       "      <td>298.510535</td>\n",
       "      <td>5151.613691</td>\n",
       "      <td>3.312068</td>\n",
       "      <td>-40.505412</td>\n",
       "      <td>40.022722</td>\n",
       "      <td>93.550329</td>\n",
       "      <td>-0.173593</td>\n",
       "      <td>2.236470</td>\n",
       "      <td>0.140626</td>\n",
       "    </tr>\n",
       "  </tbody>\n",
       "</table>\n",
       "</div>"
      ],
      "text/plain": [
       "   prediction  avg(prediction)  avg(Duration)  avg(nr_employed)  \\\n",
       "0           0              0.0     111.181132       5175.880618   \n",
       "1           1              1.0    1101.886263       5169.266913   \n",
       "2           2              2.0     602.117315       5162.161935   \n",
       "3           3              3.0    2157.875000       5168.919118   \n",
       "4           4              4.0     298.510535       5151.613691   \n",
       "\n",
       "   avg(euribor3m)  avg(cons_conf_idx)   avg(age)  avg(cons_price_idx)  \\\n",
       "0        3.798616          -40.438250  39.999309            93.586236   \n",
       "1        3.659376          -40.804948  39.519202            93.601082   \n",
       "2        3.523506          -40.740823  40.301763            93.580932   \n",
       "3        3.729728          -40.456618  40.352941            93.604809   \n",
       "4        3.312068          -40.505412  40.022722            93.550329   \n",
       "\n",
       "   avg(emp_var_rate)  avg(campaign)  avg(target_yes)  \n",
       "0           0.225139       2.787364         0.027319  \n",
       "1           0.133383       2.575332         0.589365  \n",
       "2           0.013246       2.332052         0.321881  \n",
       "3           0.130882       2.176471         0.610294  \n",
       "4          -0.173593       2.236470         0.140626  "
      ]
     },
     "execution_count": 11,
     "metadata": {},
     "output_type": "execute_result"
    }
   ],
   "source": [
    "cluster_means = predictions_Kmeansdf.select(['prediction'] + feature_cols + ['target_yes']).groupBy('prediction').mean().orderBy(['prediction'])\n",
    "cluster_profiles = cluster_means.toPandas()\n",
    "cluster_profiles"
   ]
  },
  {
   "cell_type": "markdown",
   "metadata": {},
   "source": [
    "### Cluster Modes (for categorical features)"
   ]
  },
  {
   "cell_type": "markdown",
   "metadata": {},
   "source": [
    "There is not a implicit mode funciton in pyspark for our categorical variables, education_OHE and housing_OHE.  \n",
    "Thus, we have to manually find the mode.  Best way I know to do this is to split the vectorized columns to <br>individual column assignments and find the highest frequency for each feature.<br><br>\n",
    "In the end, this will be merged to the output summary dataframe for the clustering"
   ]
  },
  {
   "cell_type": "markdown",
   "metadata": {},
   "source": [
    "`education_OHE`"
   ]
  },
  {
   "cell_type": "code",
   "execution_count": 12,
   "metadata": {},
   "outputs": [
    {
     "name": "stderr",
     "output_type": "stream",
     "text": [
      "                                                                                \r"
     ]
    },
    {
     "data": {
      "text/html": [
       "<div>\n",
       "<style scoped>\n",
       "    .dataframe tbody tr th:only-of-type {\n",
       "        vertical-align: middle;\n",
       "    }\n",
       "\n",
       "    .dataframe tbody tr th {\n",
       "        vertical-align: top;\n",
       "    }\n",
       "\n",
       "    .dataframe thead th {\n",
       "        text-align: right;\n",
       "    }\n",
       "</style>\n",
       "<table border=\"1\" class=\"dataframe\">\n",
       "  <thead>\n",
       "    <tr style=\"text-align: right;\">\n",
       "      <th></th>\n",
       "      <th>edu_cat_1</th>\n",
       "      <th>edu_cat_2</th>\n",
       "      <th>edu_cat_3</th>\n",
       "      <th>edu_cat_4</th>\n",
       "      <th>edu_cat_5</th>\n",
       "      <th>edu_cat_6</th>\n",
       "      <th>edu_cat_7</th>\n",
       "      <th>edu_cat_8</th>\n",
       "      <th>prediction</th>\n",
       "    </tr>\n",
       "  </thead>\n",
       "  <tbody>\n",
       "    <tr>\n",
       "      <th>0</th>\n",
       "      <td>0.0</td>\n",
       "      <td>0.0</td>\n",
       "      <td>0.0</td>\n",
       "      <td>0.0</td>\n",
       "      <td>1.0</td>\n",
       "      <td>0.0</td>\n",
       "      <td>0.0</td>\n",
       "      <td>0.0</td>\n",
       "      <td>4.0</td>\n",
       "    </tr>\n",
       "    <tr>\n",
       "      <th>1</th>\n",
       "      <td>0.0</td>\n",
       "      <td>1.0</td>\n",
       "      <td>0.0</td>\n",
       "      <td>0.0</td>\n",
       "      <td>0.0</td>\n",
       "      <td>0.0</td>\n",
       "      <td>0.0</td>\n",
       "      <td>0.0</td>\n",
       "      <td>0.0</td>\n",
       "    </tr>\n",
       "  </tbody>\n",
       "</table>\n",
       "</div>"
      ],
      "text/plain": [
       "   edu_cat_1  edu_cat_2  edu_cat_3  edu_cat_4  edu_cat_5  edu_cat_6  \\\n",
       "0        0.0        0.0        0.0        0.0        1.0        0.0   \n",
       "1        0.0        1.0        0.0        0.0        0.0        0.0   \n",
       "\n",
       "   edu_cat_7  edu_cat_8  prediction  \n",
       "0        0.0        0.0         4.0  \n",
       "1        0.0        0.0         0.0  "
      ]
     },
     "execution_count": 12,
     "metadata": {},
     "output_type": "execute_result"
    }
   ],
   "source": [
    "from pyspark.sql.types import StructType, StructField, FloatType\n",
    "\n",
    "num_edu_categories = 8\n",
    "edu = predictions_Kmeans.select('education_OHE', 'prediction')\n",
    "\n",
    "edu_columns = [f\"edu_cat_{i + 1}\" for i in range(num_edu_categories)]\n",
    "\n",
    "# Collect the rows from the original DataFrame\n",
    "edu_rows = [tuple(map(float, row[\"education_OHE\"])) + (float(row[\"prediction\"]),) for row in edu.collect()]\n",
    "\n",
    "# Define the schema for the new DataFrame\n",
    "schema_columns = [StructField(col_name, FloatType(), True) for col_name in edu_columns]\n",
    "schema_columns.append(StructField(\"prediction\", FloatType(), True))\n",
    "schema = StructType(schema_columns)\n",
    "\n",
    "# Create the DataFrame with the specified schema\n",
    "edu_sliced = spark.createDataFrame(edu_rows, schema=schema)\n",
    "\n",
    "# Show the sliced DataFrame\n",
    "edu_sliced.toPandas().head(2)\n"
   ]
  },
  {
   "cell_type": "code",
   "execution_count": 13,
   "metadata": {},
   "outputs": [
    {
     "data": {
      "text/html": [
       "<div>\n",
       "<style scoped>\n",
       "    .dataframe tbody tr th:only-of-type {\n",
       "        vertical-align: middle;\n",
       "    }\n",
       "\n",
       "    .dataframe tbody tr th {\n",
       "        vertical-align: top;\n",
       "    }\n",
       "\n",
       "    .dataframe thead th {\n",
       "        text-align: right;\n",
       "    }\n",
       "</style>\n",
       "<table border=\"1\" class=\"dataframe\">\n",
       "  <thead>\n",
       "    <tr style=\"text-align: right;\">\n",
       "      <th></th>\n",
       "      <th>prediction</th>\n",
       "      <th>edu_cat_1_sum</th>\n",
       "      <th>edu_cat_2_sum</th>\n",
       "      <th>edu_cat_3_sum</th>\n",
       "      <th>edu_cat_4_sum</th>\n",
       "      <th>edu_cat_5_sum</th>\n",
       "      <th>edu_cat_6_sum</th>\n",
       "      <th>edu_cat_7_sum</th>\n",
       "      <th>edu_cat_8_sum</th>\n",
       "      <th>prediction_sum</th>\n",
       "    </tr>\n",
       "  </thead>\n",
       "  <tbody>\n",
       "    <tr>\n",
       "      <th>0</th>\n",
       "      <td>0.0</td>\n",
       "      <td>7012.0</td>\n",
       "      <td>5298.0</td>\n",
       "      <td>3340.0</td>\n",
       "      <td>3024.0</td>\n",
       "      <td>2280.0</td>\n",
       "      <td>1284.0</td>\n",
       "      <td>921.0</td>\n",
       "      <td>12.0</td>\n",
       "      <td>0.0</td>\n",
       "    </tr>\n",
       "    <tr>\n",
       "      <th>1</th>\n",
       "      <td>1.0</td>\n",
       "      <td>393.0</td>\n",
       "      <td>332.0</td>\n",
       "      <td>208.0</td>\n",
       "      <td>148.0</td>\n",
       "      <td>123.0</td>\n",
       "      <td>89.0</td>\n",
       "      <td>60.0</td>\n",
       "      <td>1.0</td>\n",
       "      <td>1354.0</td>\n",
       "    </tr>\n",
       "    <tr>\n",
       "      <th>2</th>\n",
       "      <td>2.0</td>\n",
       "      <td>1223.0</td>\n",
       "      <td>1023.0</td>\n",
       "      <td>672.0</td>\n",
       "      <td>553.0</td>\n",
       "      <td>517.0</td>\n",
       "      <td>232.0</td>\n",
       "      <td>201.0</td>\n",
       "      <td>3.0</td>\n",
       "      <td>8848.0</td>\n",
       "    </tr>\n",
       "    <tr>\n",
       "      <th>3</th>\n",
       "      <td>3.0</td>\n",
       "      <td>40.0</td>\n",
       "      <td>31.0</td>\n",
       "      <td>17.0</td>\n",
       "      <td>20.0</td>\n",
       "      <td>17.0</td>\n",
       "      <td>9.0</td>\n",
       "      <td>2.0</td>\n",
       "      <td>0.0</td>\n",
       "      <td>408.0</td>\n",
       "    </tr>\n",
       "    <tr>\n",
       "      <th>4</th>\n",
       "      <td>4.0</td>\n",
       "      <td>3500.0</td>\n",
       "      <td>2831.0</td>\n",
       "      <td>1808.0</td>\n",
       "      <td>1498.0</td>\n",
       "      <td>1239.0</td>\n",
       "      <td>678.0</td>\n",
       "      <td>547.0</td>\n",
       "      <td>2.0</td>\n",
       "      <td>48412.0</td>\n",
       "    </tr>\n",
       "  </tbody>\n",
       "</table>\n",
       "</div>"
      ],
      "text/plain": [
       "   prediction  edu_cat_1_sum  edu_cat_2_sum  edu_cat_3_sum  edu_cat_4_sum  \\\n",
       "0         0.0         7012.0         5298.0         3340.0         3024.0   \n",
       "1         1.0          393.0          332.0          208.0          148.0   \n",
       "2         2.0         1223.0         1023.0          672.0          553.0   \n",
       "3         3.0           40.0           31.0           17.0           20.0   \n",
       "4         4.0         3500.0         2831.0         1808.0         1498.0   \n",
       "\n",
       "   edu_cat_5_sum  edu_cat_6_sum  edu_cat_7_sum  edu_cat_8_sum  prediction_sum  \n",
       "0         2280.0         1284.0          921.0           12.0             0.0  \n",
       "1          123.0           89.0           60.0            1.0          1354.0  \n",
       "2          517.0          232.0          201.0            3.0          8848.0  \n",
       "3           17.0            9.0            2.0            0.0           408.0  \n",
       "4         1239.0          678.0          547.0            2.0         48412.0  "
      ]
     },
     "execution_count": 13,
     "metadata": {},
     "output_type": "execute_result"
    }
   ],
   "source": [
    "edu_sums = edu_sliced.groupBy('prediction').agg(*[F.sum(col).alias(f\"{col}_sum\") for col in edu_sliced.columns]).orderBy('prediction')\n",
    "edu_sums.toPandas().head()"
   ]
  },
  {
   "cell_type": "markdown",
   "metadata": {},
   "source": [
    "#### Rename education columns with original labels\n",
    "Recall that OHE orders them in descending order, so we can reference the descriptive stats in the original jupyter notebook<br>\n",
    "Here's a snippet:<br>\n",
    "`9\teducation\t8\tuniversity.degree\t[(university.degree, 12168), (high.school, 9515), (basic.9y, 6045), (professional.course, 5243), (basic.4y, 4176), (basic.6y, 2292), (unknown, 1731), (illiterate, 18)]`"
   ]
  },
  {
   "cell_type": "code",
   "execution_count": 14,
   "metadata": {},
   "outputs": [],
   "source": [
    "# Define the new column names\n",
    "old_edu_names = ['edu_cat_1_sum', 'edu_cat_2_sum','edu_cat_3_sum','edu_cat_4_sum','edu_cat_5_sum','edu_cat_6_sum','edu_cat_7_sum','edu_cat_8_sum']\n",
    "new_edu_names = [\"university_degree\", \"high_school\", \"basic_9y\", \"professional_course\", \"basic_4y\", \"basic_6y\", \"unknown\", \"illiterate\"]\n",
    "\n",
    "# Use select and alias to rename columns\n",
    "edu_sums = edu_sums\\\n",
    "    .withColumnRenamed(old_edu_names[0], new_edu_names[0])\\\n",
    "    .withColumnRenamed(old_edu_names[1], new_edu_names[1])\\\n",
    "    .withColumnRenamed(old_edu_names[2], new_edu_names[2])\\\n",
    "    .withColumnRenamed(old_edu_names[3], new_edu_names[3])\\\n",
    "    .withColumnRenamed(old_edu_names[4], new_edu_names[4])\\\n",
    "    .withColumnRenamed(old_edu_names[5], new_edu_names[5])\\\n",
    "    .withColumnRenamed(old_edu_names[6], new_edu_names[6])\\\n",
    "    .withColumnRenamed(old_edu_names[7], new_edu_names[7])"
   ]
  },
  {
   "cell_type": "code",
   "execution_count": 15,
   "metadata": {},
   "outputs": [
    {
     "data": {
      "text/html": [
       "<div>\n",
       "<style scoped>\n",
       "    .dataframe tbody tr th:only-of-type {\n",
       "        vertical-align: middle;\n",
       "    }\n",
       "\n",
       "    .dataframe tbody tr th {\n",
       "        vertical-align: top;\n",
       "    }\n",
       "\n",
       "    .dataframe thead th {\n",
       "        text-align: right;\n",
       "    }\n",
       "</style>\n",
       "<table border=\"1\" class=\"dataframe\">\n",
       "  <thead>\n",
       "    <tr style=\"text-align: right;\">\n",
       "      <th></th>\n",
       "      <th>prediction</th>\n",
       "      <th>university_degree</th>\n",
       "      <th>high_school</th>\n",
       "      <th>basic_9y</th>\n",
       "      <th>professional_course</th>\n",
       "      <th>basic_4y</th>\n",
       "      <th>basic_6y</th>\n",
       "      <th>unknown</th>\n",
       "      <th>illiterate</th>\n",
       "    </tr>\n",
       "  </thead>\n",
       "  <tbody>\n",
       "    <tr>\n",
       "      <th>0</th>\n",
       "      <td>0.0</td>\n",
       "      <td>7012.0</td>\n",
       "      <td>5298.0</td>\n",
       "      <td>3340.0</td>\n",
       "      <td>3024.0</td>\n",
       "      <td>2280.0</td>\n",
       "      <td>1284.0</td>\n",
       "      <td>921.0</td>\n",
       "      <td>12.0</td>\n",
       "    </tr>\n",
       "    <tr>\n",
       "      <th>1</th>\n",
       "      <td>1.0</td>\n",
       "      <td>393.0</td>\n",
       "      <td>332.0</td>\n",
       "      <td>208.0</td>\n",
       "      <td>148.0</td>\n",
       "      <td>123.0</td>\n",
       "      <td>89.0</td>\n",
       "      <td>60.0</td>\n",
       "      <td>1.0</td>\n",
       "    </tr>\n",
       "    <tr>\n",
       "      <th>2</th>\n",
       "      <td>2.0</td>\n",
       "      <td>1223.0</td>\n",
       "      <td>1023.0</td>\n",
       "      <td>672.0</td>\n",
       "      <td>553.0</td>\n",
       "      <td>517.0</td>\n",
       "      <td>232.0</td>\n",
       "      <td>201.0</td>\n",
       "      <td>3.0</td>\n",
       "    </tr>\n",
       "    <tr>\n",
       "      <th>3</th>\n",
       "      <td>3.0</td>\n",
       "      <td>40.0</td>\n",
       "      <td>31.0</td>\n",
       "      <td>17.0</td>\n",
       "      <td>20.0</td>\n",
       "      <td>17.0</td>\n",
       "      <td>9.0</td>\n",
       "      <td>2.0</td>\n",
       "      <td>0.0</td>\n",
       "    </tr>\n",
       "    <tr>\n",
       "      <th>4</th>\n",
       "      <td>4.0</td>\n",
       "      <td>3500.0</td>\n",
       "      <td>2831.0</td>\n",
       "      <td>1808.0</td>\n",
       "      <td>1498.0</td>\n",
       "      <td>1239.0</td>\n",
       "      <td>678.0</td>\n",
       "      <td>547.0</td>\n",
       "      <td>2.0</td>\n",
       "    </tr>\n",
       "  </tbody>\n",
       "</table>\n",
       "</div>"
      ],
      "text/plain": [
       "   prediction  university_degree  high_school  basic_9y  professional_course  \\\n",
       "0         0.0             7012.0       5298.0    3340.0               3024.0   \n",
       "1         1.0              393.0        332.0     208.0                148.0   \n",
       "2         2.0             1223.0       1023.0     672.0                553.0   \n",
       "3         3.0               40.0         31.0      17.0                 20.0   \n",
       "4         4.0             3500.0       2831.0    1808.0               1498.0   \n",
       "\n",
       "   basic_4y  basic_6y  unknown  illiterate  \n",
       "0    2280.0    1284.0    921.0        12.0  \n",
       "1     123.0      89.0     60.0         1.0  \n",
       "2     517.0     232.0    201.0         3.0  \n",
       "3      17.0       9.0      2.0         0.0  \n",
       "4    1239.0     678.0    547.0         2.0  "
      ]
     },
     "execution_count": 15,
     "metadata": {},
     "output_type": "execute_result"
    }
   ],
   "source": [
    "edu_sums = edu_sums.select(['prediction']+new_edu_names)\n",
    "edu_sums.toPandas().head()"
   ]
  },
  {
   "cell_type": "code",
   "execution_count": 16,
   "metadata": {},
   "outputs": [
    {
     "data": {
      "text/html": [
       "<div>\n",
       "<style scoped>\n",
       "    .dataframe tbody tr th:only-of-type {\n",
       "        vertical-align: middle;\n",
       "    }\n",
       "\n",
       "    .dataframe tbody tr th {\n",
       "        vertical-align: top;\n",
       "    }\n",
       "\n",
       "    .dataframe thead th {\n",
       "        text-align: right;\n",
       "    }\n",
       "</style>\n",
       "<table border=\"1\" class=\"dataframe\">\n",
       "  <thead>\n",
       "    <tr style=\"text-align: right;\">\n",
       "      <th></th>\n",
       "      <th>sum(basic_9y)</th>\n",
       "      <th>sum(high_school)</th>\n",
       "      <th>sum(basic_6y)</th>\n",
       "      <th>sum(unknown)</th>\n",
       "      <th>sum(basic_4y)</th>\n",
       "      <th>sum(professional_course)</th>\n",
       "      <th>sum(university_degree)</th>\n",
       "      <th>sum(illiterate)</th>\n",
       "    </tr>\n",
       "  </thead>\n",
       "  <tbody>\n",
       "    <tr>\n",
       "      <th>0</th>\n",
       "      <td>6045.0</td>\n",
       "      <td>9515.0</td>\n",
       "      <td>2292.0</td>\n",
       "      <td>1731.0</td>\n",
       "      <td>4176.0</td>\n",
       "      <td>5243.0</td>\n",
       "      <td>12168.0</td>\n",
       "      <td>18.0</td>\n",
       "    </tr>\n",
       "  </tbody>\n",
       "</table>\n",
       "</div>"
      ],
      "text/plain": [
       "   sum(basic_9y)  sum(high_school)  sum(basic_6y)  sum(unknown)  \\\n",
       "0         6045.0            9515.0         2292.0        1731.0   \n",
       "\n",
       "   sum(basic_4y)  sum(professional_course)  sum(university_degree)  \\\n",
       "0         4176.0                    5243.0                 12168.0   \n",
       "\n",
       "   sum(illiterate)  \n",
       "0             18.0  "
      ]
     },
     "execution_count": 16,
     "metadata": {},
     "output_type": "execute_result"
    }
   ],
   "source": [
    "edu_column_sums = edu_sums.agg({new_edu_names[i]: \"sum\" for i in range(len(new_edu_names))})\n",
    "edu_column_sums.toPandas().head()"
   ]
  },
  {
   "cell_type": "markdown",
   "metadata": {},
   "source": [
    "`(university.degree, 12168), (high.school, 9515), (basic.9y, 6045), (professional.course, 5243), (basic.4y, 4176), (basic.6y, 2292), (unknown, 1731), (illiterate, 18)`"
   ]
  },
  {
   "cell_type": "markdown",
   "metadata": {},
   "source": [
    "Summed totals all match up to original set"
   ]
  },
  {
   "cell_type": "code",
   "execution_count": 17,
   "metadata": {},
   "outputs": [
    {
     "name": "stdout",
     "output_type": "stream",
     "text": [
      "+----------+-----------------+\n",
      "|prediction|        education|\n",
      "+----------+-----------------+\n",
      "|         0|university_degree|\n",
      "|         1|university_degree|\n",
      "|         2|university_degree|\n",
      "|         3|university_degree|\n",
      "|         4|university_degree|\n",
      "+----------+-----------------+\n",
      "\n"
     ]
    }
   ],
   "source": [
    "education_mode_data = [(0, 'university_degree'), (1, 'university_degree'), (2, 'university_degree'), (3, 'university_degree'), (4, 'university_degree')]\n",
    "schema = [\"prediction\", \"education\"]\n",
    "education_mode = spark.createDataFrame(education_mode_data, schema=schema)\n",
    "education_mode.show()"
   ]
  },
  {
   "cell_type": "markdown",
   "metadata": {},
   "source": [
    "`housing_OHE`"
   ]
  },
  {
   "cell_type": "code",
   "execution_count": 18,
   "metadata": {},
   "outputs": [
    {
     "data": {
      "text/html": [
       "<div>\n",
       "<style scoped>\n",
       "    .dataframe tbody tr th:only-of-type {\n",
       "        vertical-align: middle;\n",
       "    }\n",
       "\n",
       "    .dataframe tbody tr th {\n",
       "        vertical-align: top;\n",
       "    }\n",
       "\n",
       "    .dataframe thead th {\n",
       "        text-align: right;\n",
       "    }\n",
       "</style>\n",
       "<table border=\"1\" class=\"dataframe\">\n",
       "  <thead>\n",
       "    <tr style=\"text-align: right;\">\n",
       "      <th></th>\n",
       "      <th>housing_cat_1</th>\n",
       "      <th>housing_cat_2</th>\n",
       "      <th>housing_cat_3</th>\n",
       "      <th>prediction</th>\n",
       "    </tr>\n",
       "  </thead>\n",
       "  <tbody>\n",
       "    <tr>\n",
       "      <th>0</th>\n",
       "      <td>0.0</td>\n",
       "      <td>1.0</td>\n",
       "      <td>0.0</td>\n",
       "      <td>4.0</td>\n",
       "    </tr>\n",
       "    <tr>\n",
       "      <th>1</th>\n",
       "      <td>0.0</td>\n",
       "      <td>1.0</td>\n",
       "      <td>0.0</td>\n",
       "      <td>0.0</td>\n",
       "    </tr>\n",
       "  </tbody>\n",
       "</table>\n",
       "</div>"
      ],
      "text/plain": [
       "   housing_cat_1  housing_cat_2  housing_cat_3  prediction\n",
       "0            0.0            1.0            0.0         4.0\n",
       "1            0.0            1.0            0.0         0.0"
      ]
     },
     "execution_count": 18,
     "metadata": {},
     "output_type": "execute_result"
    }
   ],
   "source": [
    "num_house_categories = 3\n",
    "house = predictions_Kmeans.select('housing_OHE', 'prediction')\n",
    "\n",
    "# Assuming edu_columns is already defined\n",
    "house_columns = [f\"housing_cat_{i + 1}\" for i in range(num_house_categories)]# Select individual elements from the vector\n",
    "\n",
    "# Collect the rows from the original DataFrame\n",
    "house_rows = [tuple(list(map(float, row[\"housing_OHE\"])) + [float(row['prediction'])]) for row in house.collect()]\n",
    "\n",
    "# Define the schema for the new DataFrame\n",
    "schema_columns = [StructField(col_name, FloatType(), True) for col_name in house_columns]\n",
    "schema_columns.append(StructField(\"prediction\", FloatType(), True))\n",
    "schema = StructType(schema_columns)\n",
    "\n",
    "# Create the DataFrame with the specified schema\n",
    "house_sliced = spark.createDataFrame(house_rows, schema=schema)\n",
    "\n",
    "# Show the sliced DataFrame\n",
    "house_sliced.toPandas().head(2)\n"
   ]
  },
  {
   "cell_type": "code",
   "execution_count": 19,
   "metadata": {},
   "outputs": [
    {
     "data": {
      "text/html": [
       "<div>\n",
       "<style scoped>\n",
       "    .dataframe tbody tr th:only-of-type {\n",
       "        vertical-align: middle;\n",
       "    }\n",
       "\n",
       "    .dataframe tbody tr th {\n",
       "        vertical-align: top;\n",
       "    }\n",
       "\n",
       "    .dataframe thead th {\n",
       "        text-align: right;\n",
       "    }\n",
       "</style>\n",
       "<table border=\"1\" class=\"dataframe\">\n",
       "  <thead>\n",
       "    <tr style=\"text-align: right;\">\n",
       "      <th></th>\n",
       "      <th>prediction</th>\n",
       "      <th>sum(housing_cat_1)</th>\n",
       "      <th>sum(housing_cat_2)</th>\n",
       "      <th>sum(housing_cat_3)</th>\n",
       "      <th>sum(prediction)</th>\n",
       "    </tr>\n",
       "  </thead>\n",
       "  <tbody>\n",
       "    <tr>\n",
       "      <th>0</th>\n",
       "      <td>0.0</td>\n",
       "      <td>12137.0</td>\n",
       "      <td>10450.0</td>\n",
       "      <td>584.0</td>\n",
       "      <td>0.0</td>\n",
       "    </tr>\n",
       "    <tr>\n",
       "      <th>1</th>\n",
       "      <td>1.0</td>\n",
       "      <td>684.0</td>\n",
       "      <td>638.0</td>\n",
       "      <td>32.0</td>\n",
       "      <td>1354.0</td>\n",
       "    </tr>\n",
       "    <tr>\n",
       "      <th>2</th>\n",
       "      <td>2.0</td>\n",
       "      <td>2262.0</td>\n",
       "      <td>2062.0</td>\n",
       "      <td>100.0</td>\n",
       "      <td>8848.0</td>\n",
       "    </tr>\n",
       "    <tr>\n",
       "      <th>3</th>\n",
       "      <td>3.0</td>\n",
       "      <td>75.0</td>\n",
       "      <td>60.0</td>\n",
       "      <td>1.0</td>\n",
       "      <td>408.0</td>\n",
       "    </tr>\n",
       "    <tr>\n",
       "      <th>4</th>\n",
       "      <td>4.0</td>\n",
       "      <td>6418.0</td>\n",
       "      <td>5412.0</td>\n",
       "      <td>273.0</td>\n",
       "      <td>48412.0</td>\n",
       "    </tr>\n",
       "  </tbody>\n",
       "</table>\n",
       "</div>"
      ],
      "text/plain": [
       "   prediction  sum(housing_cat_1)  sum(housing_cat_2)  sum(housing_cat_3)  \\\n",
       "0         0.0             12137.0             10450.0               584.0   \n",
       "1         1.0               684.0               638.0                32.0   \n",
       "2         2.0              2262.0              2062.0               100.0   \n",
       "3         3.0                75.0                60.0                 1.0   \n",
       "4         4.0              6418.0              5412.0               273.0   \n",
       "\n",
       "   sum(prediction)  \n",
       "0              0.0  \n",
       "1           1354.0  \n",
       "2           8848.0  \n",
       "3            408.0  \n",
       "4          48412.0  "
      ]
     },
     "execution_count": 19,
     "metadata": {},
     "output_type": "execute_result"
    }
   ],
   "source": [
    "house_sums = house_sliced.groupBy('prediction').agg(*[F.sum(col) for col in house_sliced.columns]).orderBy('prediction')\n",
    "house_sums.toPandas().head()"
   ]
  },
  {
   "cell_type": "markdown",
   "metadata": {},
   "source": [
    "#### Rename housing columns with original labels\n",
    "Recall that OHE orders them in descending order, so we can reference the descriptive stats in the original jupyter notebook<br>\n",
    "Here's a snippet:<br>\n",
    "`4\thousing\t3\tyes\t[(yes, 21576), (no, 18622), (unknown, 990)]`"
   ]
  },
  {
   "cell_type": "code",
   "execution_count": 20,
   "metadata": {},
   "outputs": [],
   "source": [
    "old_house_names = [\"sum(housing_cat_1)\",\"sum(housing_cat_2)\",\"sum(housing_cat_3)\"]\n",
    "new_house_names = ['yes','no','unknown']\n",
    "\n",
    "house_sums = house_sums\\\n",
    "    .withColumnRenamed(old_house_names[0], new_house_names[0])\\\n",
    "    .withColumnRenamed(old_house_names[1], new_house_names[1])\\\n",
    "    .withColumnRenamed(old_house_names[2], new_house_names[2])"
   ]
  },
  {
   "cell_type": "code",
   "execution_count": 21,
   "metadata": {},
   "outputs": [
    {
     "data": {
      "text/html": [
       "<div>\n",
       "<style scoped>\n",
       "    .dataframe tbody tr th:only-of-type {\n",
       "        vertical-align: middle;\n",
       "    }\n",
       "\n",
       "    .dataframe tbody tr th {\n",
       "        vertical-align: top;\n",
       "    }\n",
       "\n",
       "    .dataframe thead th {\n",
       "        text-align: right;\n",
       "    }\n",
       "</style>\n",
       "<table border=\"1\" class=\"dataframe\">\n",
       "  <thead>\n",
       "    <tr style=\"text-align: right;\">\n",
       "      <th></th>\n",
       "      <th>sum(no)</th>\n",
       "      <th>sum(yes)</th>\n",
       "      <th>sum(unknown)</th>\n",
       "    </tr>\n",
       "  </thead>\n",
       "  <tbody>\n",
       "    <tr>\n",
       "      <th>0</th>\n",
       "      <td>18622.0</td>\n",
       "      <td>21576.0</td>\n",
       "      <td>990.0</td>\n",
       "    </tr>\n",
       "  </tbody>\n",
       "</table>\n",
       "</div>"
      ],
      "text/plain": [
       "   sum(no)  sum(yes)  sum(unknown)\n",
       "0  18622.0   21576.0         990.0"
      ]
     },
     "execution_count": 21,
     "metadata": {},
     "output_type": "execute_result"
    }
   ],
   "source": [
    "house_column_sums = house_sums.agg({new_house_names[i]: \"sum\" for i in range(len(new_house_names))})\n",
    "house_column_sums.toPandas().head()"
   ]
  },
  {
   "cell_type": "markdown",
   "metadata": {},
   "source": [
    "Summed totals all match up to original set"
   ]
  },
  {
   "cell_type": "code",
   "execution_count": 22,
   "metadata": {},
   "outputs": [
    {
     "name": "stdout",
     "output_type": "stream",
     "text": [
      "+----------+-------+\n",
      "|prediction|housing|\n",
      "+----------+-------+\n",
      "|         0|    yes|\n",
      "|         1|    yes|\n",
      "|         2|    yes|\n",
      "|         3|    yes|\n",
      "|         4|    yes|\n",
      "+----------+-------+\n",
      "\n"
     ]
    }
   ],
   "source": [
    "house_sums = house_sums.select('prediction','yes','no','unknown')\n",
    "house_sums.toPandas().head()\n",
    "housing_mode_data = [(0, 'yes'), (1, 'yes'), (2, 'yes'), (3, 'yes'), (4, 'yes')]\n",
    "schema = [\"prediction\", \"housing\"]\n",
    "housing_mode = spark.createDataFrame(housing_mode_data, schema=schema)\n",
    "housing_mode.show()\n"
   ]
  },
  {
   "cell_type": "markdown",
   "metadata": {},
   "source": [
    "#### Join the Mean (numeric) columns with the Mode (categorical) columns into one dataframe"
   ]
  },
  {
   "cell_type": "code",
   "execution_count": 23,
   "metadata": {},
   "outputs": [
    {
     "data": {
      "text/html": [
       "<div>\n",
       "<style scoped>\n",
       "    .dataframe tbody tr th:only-of-type {\n",
       "        vertical-align: middle;\n",
       "    }\n",
       "\n",
       "    .dataframe tbody tr th {\n",
       "        vertical-align: top;\n",
       "    }\n",
       "\n",
       "    .dataframe thead th {\n",
       "        text-align: right;\n",
       "    }\n",
       "</style>\n",
       "<table border=\"1\" class=\"dataframe\">\n",
       "  <thead>\n",
       "    <tr style=\"text-align: right;\">\n",
       "      <th></th>\n",
       "      <th>prediction</th>\n",
       "      <th>avg(prediction)</th>\n",
       "      <th>avg(Duration)</th>\n",
       "      <th>avg(nr_employed)</th>\n",
       "      <th>avg(euribor3m)</th>\n",
       "      <th>avg(cons_conf_idx)</th>\n",
       "      <th>avg(age)</th>\n",
       "      <th>avg(cons_price_idx)</th>\n",
       "      <th>avg(emp_var_rate)</th>\n",
       "      <th>avg(campaign)</th>\n",
       "      <th>avg(target_yes)</th>\n",
       "      <th>housing</th>\n",
       "      <th>education</th>\n",
       "    </tr>\n",
       "  </thead>\n",
       "  <tbody>\n",
       "    <tr>\n",
       "      <th>0</th>\n",
       "      <td>0</td>\n",
       "      <td>0.0</td>\n",
       "      <td>111.181132</td>\n",
       "      <td>5175.880618</td>\n",
       "      <td>3.798616</td>\n",
       "      <td>-40.438250</td>\n",
       "      <td>39.999309</td>\n",
       "      <td>93.586236</td>\n",
       "      <td>0.225139</td>\n",
       "      <td>2.787364</td>\n",
       "      <td>0.027319</td>\n",
       "      <td>yes</td>\n",
       "      <td>university_degree</td>\n",
       "    </tr>\n",
       "    <tr>\n",
       "      <th>1</th>\n",
       "      <td>1</td>\n",
       "      <td>1.0</td>\n",
       "      <td>1101.886263</td>\n",
       "      <td>5169.266913</td>\n",
       "      <td>3.659376</td>\n",
       "      <td>-40.804948</td>\n",
       "      <td>39.519202</td>\n",
       "      <td>93.601082</td>\n",
       "      <td>0.133383</td>\n",
       "      <td>2.575332</td>\n",
       "      <td>0.589365</td>\n",
       "      <td>yes</td>\n",
       "      <td>university_degree</td>\n",
       "    </tr>\n",
       "    <tr>\n",
       "      <th>2</th>\n",
       "      <td>2</td>\n",
       "      <td>2.0</td>\n",
       "      <td>602.117315</td>\n",
       "      <td>5162.161935</td>\n",
       "      <td>3.523506</td>\n",
       "      <td>-40.740823</td>\n",
       "      <td>40.301763</td>\n",
       "      <td>93.580932</td>\n",
       "      <td>0.013246</td>\n",
       "      <td>2.332052</td>\n",
       "      <td>0.321881</td>\n",
       "      <td>yes</td>\n",
       "      <td>university_degree</td>\n",
       "    </tr>\n",
       "    <tr>\n",
       "      <th>3</th>\n",
       "      <td>3</td>\n",
       "      <td>3.0</td>\n",
       "      <td>2157.875000</td>\n",
       "      <td>5168.919118</td>\n",
       "      <td>3.729728</td>\n",
       "      <td>-40.456618</td>\n",
       "      <td>40.352941</td>\n",
       "      <td>93.604809</td>\n",
       "      <td>0.130882</td>\n",
       "      <td>2.176471</td>\n",
       "      <td>0.610294</td>\n",
       "      <td>yes</td>\n",
       "      <td>university_degree</td>\n",
       "    </tr>\n",
       "    <tr>\n",
       "      <th>4</th>\n",
       "      <td>4</td>\n",
       "      <td>4.0</td>\n",
       "      <td>298.510535</td>\n",
       "      <td>5151.613691</td>\n",
       "      <td>3.312068</td>\n",
       "      <td>-40.505412</td>\n",
       "      <td>40.022722</td>\n",
       "      <td>93.550329</td>\n",
       "      <td>-0.173593</td>\n",
       "      <td>2.236470</td>\n",
       "      <td>0.140626</td>\n",
       "      <td>yes</td>\n",
       "      <td>university_degree</td>\n",
       "    </tr>\n",
       "  </tbody>\n",
       "</table>\n",
       "</div>"
      ],
      "text/plain": [
       "   prediction  avg(prediction)  avg(Duration)  avg(nr_employed)  \\\n",
       "0           0              0.0     111.181132       5175.880618   \n",
       "1           1              1.0    1101.886263       5169.266913   \n",
       "2           2              2.0     602.117315       5162.161935   \n",
       "3           3              3.0    2157.875000       5168.919118   \n",
       "4           4              4.0     298.510535       5151.613691   \n",
       "\n",
       "   avg(euribor3m)  avg(cons_conf_idx)   avg(age)  avg(cons_price_idx)  \\\n",
       "0        3.798616          -40.438250  39.999309            93.586236   \n",
       "1        3.659376          -40.804948  39.519202            93.601082   \n",
       "2        3.523506          -40.740823  40.301763            93.580932   \n",
       "3        3.729728          -40.456618  40.352941            93.604809   \n",
       "4        3.312068          -40.505412  40.022722            93.550329   \n",
       "\n",
       "   avg(emp_var_rate)  avg(campaign)  avg(target_yes) housing  \\\n",
       "0           0.225139       2.787364         0.027319     yes   \n",
       "1           0.133383       2.575332         0.589365     yes   \n",
       "2           0.013246       2.332052         0.321881     yes   \n",
       "3           0.130882       2.176471         0.610294     yes   \n",
       "4          -0.173593       2.236470         0.140626     yes   \n",
       "\n",
       "           education  \n",
       "0  university_degree  \n",
       "1  university_degree  \n",
       "2  university_degree  \n",
       "3  university_degree  \n",
       "4  university_degree  "
      ]
     },
     "execution_count": 23,
     "metadata": {},
     "output_type": "execute_result"
    }
   ],
   "source": [
    "housing_mode = housing_mode.toPandas()\n",
    "all_cluster_profiles = cluster_profiles.merge(housing_mode, on='prediction', suffixes=('', '_housing'))\n",
    "education_mode = education_mode.toPandas()\n",
    "all_cluster_profiles = all_cluster_profiles.merge(education_mode, on='prediction', suffixes=('','_housing'))\n",
    "all_cluster_profiles\n"
   ]
  },
  {
   "cell_type": "markdown",
   "metadata": {},
   "source": [
    "#### Export to csv for conditional formatting in Excel"
   ]
  },
  {
   "cell_type": "code",
   "execution_count": 24,
   "metadata": {},
   "outputs": [],
   "source": [
    "all_cluster_profiles.drop(columns='avg(prediction)', inplace=True)"
   ]
  },
  {
   "cell_type": "code",
   "execution_count": 25,
   "metadata": {},
   "outputs": [],
   "source": [
    "all_cluster_profiles.to_csv('/Users/nathanzlomke/Downloads/cluster_profiles.csv', index=False)"
   ]
  },
  {
   "cell_type": "markdown",
   "metadata": {},
   "source": [
    "## Visualization using PCA"
   ]
  },
  {
   "cell_type": "code",
   "execution_count": 29,
   "metadata": {},
   "outputs": [],
   "source": [
    "#PCA shouldn't be necessary unless wanting to plot the clusters in a 2-dimensional feature space\n",
    "\n",
    "from pyspark.ml.feature import PCA\n",
    "from pyspark.ml.linalg import Vectors\n",
    "from pyspark.ml.feature import VectorAssembler\n",
    "\n",
    "# Assuming your features are in columns \"feature1\", \"feature2\", ..., \"feature10\"\n",
    "feature_cols = predictions_Kmeans.columns\n",
    "\n",
    "# Assemble features into a single vector column\n",
    "#vector_assembler = VectorAssembler(inputCols=feature_cols, outputCol=\"features\")\n",
    "#top10_assembled = vector_assembler.transform(top10)\n",
    "\n",
    "# Apply PCA\n",
    "pca = PCA(k=2, inputCol='features', outputCol=\"pca_features\")\n",
    "pca_model = pca.fit(predictions_Kmeans)\n",
    "pca_result = pca_model.transform(predictions_Kmeans)\n"
   ]
  },
  {
   "cell_type": "code",
   "execution_count": 31,
   "metadata": {},
   "outputs": [
    {
     "data": {
      "text/plain": [
       "<Figure size 800x600 with 0 Axes>"
      ]
     },
     "metadata": {},
     "output_type": "display_data"
    },
    {
     "data": {
      "image/png": "[encoded data removed]",
      "text/plain": [
       "<Figure size 800x600 with 1 Axes>"
      ]
     },
     "metadata": {},
     "output_type": "display_data"
    }
   ],
   "source": [
    "\n",
    "# Visualize the clusters\n",
    "pca_predictions_pd = pca_result.select(\"prediction\", \"pca_features\").toPandas()\n",
    "k=5\n",
    "plt.figure(figsize=(8, 6))\n",
    "plt.figure(figsize=(8, 6))\n",
    "for cluster_id in range(k):\n",
    "    cluster_data = pca_predictions_pd[pca_predictions_pd[\"prediction\"] == cluster_id]\n",
    "    plt.scatter(cluster_data[\"pca_features\"].apply(lambda x: x[0]), cluster_data[\"pca_features\"].apply(lambda x: x[1]), label=f\"Cluster {cluster_id}\")\n",
    "\n",
    "plt.xlabel(\"Principal Component 1\")\n",
    "plt.ylabel(\"Principal Component 2\")\n",
    "plt.title(\"k-Means Clustering (PCA)\")\n",
    "plt.legend()\n",
    "plt.show()\n",
    "\n"
   ]
  }
 ],
 "metadata": {
  "kernelspec": {
   "display_name": "Python 3",
   "language": "python",
   "name": "python3"
  },
  "language_info": {
   "codemirror_mode": {
    "name": "ipython",
    "version": 3
   },
   "file_extension": ".py",
   "mimetype": "text/x-python",
   "name": "python",
   "nbconvert_exporter": "python",
   "pygments_lexer": "ipython3",
   "version": "3.9.12"
  }
 },
 "nbformat": 4,
 "nbformat_minor": 2
}
